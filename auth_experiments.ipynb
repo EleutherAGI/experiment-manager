{
 "cells": [
  {
   "cell_type": "code",
   "execution_count": 1,
   "metadata": {},
   "outputs": [
    {
     "ename": "NameError",
     "evalue": "name 'garner' is not defined",
     "output_type": "error",
     "traceback": [
      "\u001b[1;31m---------------------------------------------------------------------------\u001b[0m",
      "\u001b[1;31mNameError\u001b[0m                                 Traceback (most recent call last)",
      "\u001b[1;32m<ipython-input-1-5ba548a610d3>\u001b[0m in \u001b[0;36m<module>\u001b[1;34m\u001b[0m\n\u001b[1;32m----> 1\u001b[1;33m \u001b[0mu\u001b[0m \u001b[1;33m=\u001b[0m \u001b[0mgarner\u001b[0m\u001b[1;33m.\u001b[0m\u001b[0mAuth\u001b[0m\u001b[1;33m(\u001b[0m\u001b[1;34m'kipsterbroz@gmail.com'\u001b[0m\u001b[1;33m,\u001b[0m \u001b[1;34m'dbfaab17-b8b1-41ad-95ec-1568ac734109'\u001b[0m\u001b[1;33m)\u001b[0m\u001b[1;33m\u001b[0m\u001b[1;33m\u001b[0m\u001b[0m\n\u001b[0m",
      "\u001b[1;31mNameError\u001b[0m: name 'garner' is not defined"
     ]
    }
   ],
   "source": [
    "u = garner.Auth('kipsterbroz@gmail.com', 'dbfaab17-b8b1-41ad-95ec-1568ac734109')"
   ]
  },
  {
   "cell_type": "code",
   "execution_count": 1,
   "metadata": {},
   "outputs": [
    {
     "ename": "ParamValidationError",
     "evalue": "Parameter validation failed:\nInvalid type for parameter Logins.cognito-idp.eu-west-2.amazonaws.com/eu-west-2_ewIawpZwb, value: None, type: <class 'NoneType'>, valid types: <class 'str'>",
     "output_type": "error",
     "traceback": [
      "\u001b[1;31m---------------------------------------------------------------------------\u001b[0m",
      "\u001b[1;31mParamValidationError\u001b[0m                      Traceback (most recent call last)",
      "\u001b[1;32m<ipython-input-1-5262f43fa7b3>\u001b[0m in \u001b[0;36m<module>\u001b[1;34m\u001b[0m\n\u001b[1;32m----> 1\u001b[1;33m \u001b[1;32mimport\u001b[0m \u001b[0mgarner\u001b[0m\u001b[1;33m\u001b[0m\u001b[1;33m\u001b[0m\u001b[0m\n\u001b[0m",
      "\u001b[1;32m~\\OneDrive\\Desktop\\GarnerPython\\garner\\__init__.py\u001b[0m in \u001b[0;36m<module>\u001b[1;34m\u001b[0m\n\u001b[0;32m      6\u001b[0m \u001b[0mAuth\u001b[0m \u001b[1;33m=\u001b[0m \u001b[0mAuth\u001b[0m\u001b[1;33m(\u001b[0m\u001b[1;33m)\u001b[0m\u001b[1;33m\u001b[0m\u001b[1;33m\u001b[0m\u001b[0m\n\u001b[0;32m      7\u001b[0m \u001b[0mApi\u001b[0m \u001b[1;33m=\u001b[0m \u001b[0mApi\u001b[0m\u001b[1;33m(\u001b[0m\u001b[0mAuth\u001b[0m\u001b[1;33m)\u001b[0m\u001b[1;33m\u001b[0m\u001b[1;33m\u001b[0m\u001b[0m\n\u001b[1;32m----> 8\u001b[1;33m \u001b[0mStorage\u001b[0m \u001b[1;33m=\u001b[0m \u001b[0mStorage\u001b[0m\u001b[1;33m(\u001b[0m\u001b[0mAuth\u001b[0m\u001b[1;33m)\u001b[0m\u001b[1;33m\u001b[0m\u001b[1;33m\u001b[0m\u001b[0m\n\u001b[0m\u001b[0;32m      9\u001b[0m \u001b[1;33m\u001b[0m\u001b[0m\n\u001b[0;32m     10\u001b[0m \u001b[0mlogin\u001b[0m \u001b[1;33m=\u001b[0m \u001b[0mAuth\u001b[0m\u001b[1;33m.\u001b[0m\u001b[0mauthenticate\u001b[0m\u001b[1;33m\u001b[0m\u001b[1;33m\u001b[0m\u001b[0m\n",
      "\u001b[1;32m~\\OneDrive\\Desktop\\GarnerPython\\garner\\storage\\storage.py\u001b[0m in \u001b[0;36m__init__\u001b[1;34m(self, Auth)\u001b[0m\n\u001b[0;32m     10\u001b[0m         \u001b[0mself\u001b[0m\u001b[1;33m.\u001b[0m\u001b[0mid_token\u001b[0m \u001b[1;33m=\u001b[0m \u001b[0mAuth\u001b[0m\u001b[1;33m.\u001b[0m\u001b[0mid_token\u001b[0m\u001b[1;33m\u001b[0m\u001b[1;33m\u001b[0m\u001b[0m\n\u001b[0;32m     11\u001b[0m \u001b[1;33m\u001b[0m\u001b[0m\n\u001b[1;32m---> 12\u001b[1;33m         \u001b[0mself\u001b[0m\u001b[1;33m.\u001b[0m\u001b[0midentity_id\u001b[0m \u001b[1;33m=\u001b[0m \u001b[0mself\u001b[0m\u001b[1;33m.\u001b[0m\u001b[0mget_identity_id\u001b[0m\u001b[1;33m(\u001b[0m\u001b[0mself\u001b[0m\u001b[1;33m.\u001b[0m\u001b[0mid_token\u001b[0m\u001b[1;33m)\u001b[0m\u001b[1;33m\u001b[0m\u001b[1;33m\u001b[0m\u001b[0m\n\u001b[0m\u001b[0;32m     13\u001b[0m \u001b[1;33m\u001b[0m\u001b[0m\n\u001b[0;32m     14\u001b[0m         self.aws_credentials = self.get_credentials(\n",
      "\u001b[1;32m~\\OneDrive\\Desktop\\GarnerPython\\garner\\storage\\storage.py\u001b[0m in \u001b[0;36mget_identity_id\u001b[1;34m(self, id_token)\u001b[0m\n\u001b[0;32m     29\u001b[0m         creds = self.cognito_client.get_id(\n\u001b[0;32m     30\u001b[0m             \u001b[0mIdentityPoolId\u001b[0m\u001b[1;33m=\u001b[0m\u001b[0mconfig\u001b[0m\u001b[1;33m[\u001b[0m\u001b[1;34m\"aws_cognito_identity_pool_id\"\u001b[0m\u001b[1;33m]\u001b[0m\u001b[1;33m,\u001b[0m\u001b[1;33m\u001b[0m\u001b[1;33m\u001b[0m\u001b[0m\n\u001b[1;32m---> 31\u001b[1;33m             \u001b[0mLogins\u001b[0m\u001b[1;33m=\u001b[0m\u001b[1;33m{\u001b[0m\u001b[0mprovider_name\u001b[0m\u001b[1;33m:\u001b[0m \u001b[0mid_token\u001b[0m\u001b[1;33m}\u001b[0m\u001b[1;33m\u001b[0m\u001b[1;33m\u001b[0m\u001b[0m\n\u001b[0m\u001b[0;32m     32\u001b[0m         )\n\u001b[0;32m     33\u001b[0m         \u001b[1;32mreturn\u001b[0m \u001b[0mcreds\u001b[0m\u001b[1;33m[\u001b[0m\u001b[1;34m'IdentityId'\u001b[0m\u001b[1;33m]\u001b[0m\u001b[1;33m\u001b[0m\u001b[1;33m\u001b[0m\u001b[0m\n",
      "\u001b[1;32m~\\Anaconda3\\lib\\site-packages\\botocore\\client.py\u001b[0m in \u001b[0;36m_api_call\u001b[1;34m(self, *args, **kwargs)\u001b[0m\n\u001b[0;32m    355\u001b[0m                     \"%s() only accepts keyword arguments.\" % py_operation_name)\n\u001b[0;32m    356\u001b[0m             \u001b[1;31m# The \"self\" in this scope is referring to the BaseClient.\u001b[0m\u001b[1;33m\u001b[0m\u001b[1;33m\u001b[0m\u001b[1;33m\u001b[0m\u001b[0m\n\u001b[1;32m--> 357\u001b[1;33m             \u001b[1;32mreturn\u001b[0m \u001b[0mself\u001b[0m\u001b[1;33m.\u001b[0m\u001b[0m_make_api_call\u001b[0m\u001b[1;33m(\u001b[0m\u001b[0moperation_name\u001b[0m\u001b[1;33m,\u001b[0m \u001b[0mkwargs\u001b[0m\u001b[1;33m)\u001b[0m\u001b[1;33m\u001b[0m\u001b[1;33m\u001b[0m\u001b[0m\n\u001b[0m\u001b[0;32m    358\u001b[0m \u001b[1;33m\u001b[0m\u001b[0m\n\u001b[0;32m    359\u001b[0m         \u001b[0m_api_call\u001b[0m\u001b[1;33m.\u001b[0m\u001b[0m__name__\u001b[0m \u001b[1;33m=\u001b[0m \u001b[0mstr\u001b[0m\u001b[1;33m(\u001b[0m\u001b[0mpy_operation_name\u001b[0m\u001b[1;33m)\u001b[0m\u001b[1;33m\u001b[0m\u001b[1;33m\u001b[0m\u001b[0m\n",
      "\u001b[1;32m~\\Anaconda3\\lib\\site-packages\\botocore\\client.py\u001b[0m in \u001b[0;36m_make_api_call\u001b[1;34m(self, operation_name, api_params)\u001b[0m\n\u001b[0;32m    647\u001b[0m         }\n\u001b[0;32m    648\u001b[0m         request_dict = self._convert_to_request_dict(\n\u001b[1;32m--> 649\u001b[1;33m             api_params, operation_model, context=request_context)\n\u001b[0m\u001b[0;32m    650\u001b[0m \u001b[1;33m\u001b[0m\u001b[0m\n\u001b[0;32m    651\u001b[0m         \u001b[0mservice_id\u001b[0m \u001b[1;33m=\u001b[0m \u001b[0mself\u001b[0m\u001b[1;33m.\u001b[0m\u001b[0m_service_model\u001b[0m\u001b[1;33m.\u001b[0m\u001b[0mservice_id\u001b[0m\u001b[1;33m.\u001b[0m\u001b[0mhyphenize\u001b[0m\u001b[1;33m(\u001b[0m\u001b[1;33m)\u001b[0m\u001b[1;33m\u001b[0m\u001b[1;33m\u001b[0m\u001b[0m\n",
      "\u001b[1;32m~\\Anaconda3\\lib\\site-packages\\botocore\\client.py\u001b[0m in \u001b[0;36m_convert_to_request_dict\u001b[1;34m(self, api_params, operation_model, context)\u001b[0m\n\u001b[0;32m    695\u001b[0m             api_params, operation_model, context)\n\u001b[0;32m    696\u001b[0m         request_dict = self._serializer.serialize_to_request(\n\u001b[1;32m--> 697\u001b[1;33m             api_params, operation_model)\n\u001b[0m\u001b[0;32m    698\u001b[0m         \u001b[1;32mif\u001b[0m \u001b[1;32mnot\u001b[0m \u001b[0mself\u001b[0m\u001b[1;33m.\u001b[0m\u001b[0m_client_config\u001b[0m\u001b[1;33m.\u001b[0m\u001b[0minject_host_prefix\u001b[0m\u001b[1;33m:\u001b[0m\u001b[1;33m\u001b[0m\u001b[1;33m\u001b[0m\u001b[0m\n\u001b[0;32m    699\u001b[0m             \u001b[0mrequest_dict\u001b[0m\u001b[1;33m.\u001b[0m\u001b[0mpop\u001b[0m\u001b[1;33m(\u001b[0m\u001b[1;34m'host_prefix'\u001b[0m\u001b[1;33m,\u001b[0m \u001b[1;32mNone\u001b[0m\u001b[1;33m)\u001b[0m\u001b[1;33m\u001b[0m\u001b[1;33m\u001b[0m\u001b[0m\n",
      "\u001b[1;32m~\\Anaconda3\\lib\\site-packages\\botocore\\validate.py\u001b[0m in \u001b[0;36mserialize_to_request\u001b[1;34m(self, parameters, operation_model)\u001b[0m\n\u001b[0;32m    295\u001b[0m                                                     operation_model.input_shape)\n\u001b[0;32m    296\u001b[0m             \u001b[1;32mif\u001b[0m \u001b[0mreport\u001b[0m\u001b[1;33m.\u001b[0m\u001b[0mhas_errors\u001b[0m\u001b[1;33m(\u001b[0m\u001b[1;33m)\u001b[0m\u001b[1;33m:\u001b[0m\u001b[1;33m\u001b[0m\u001b[1;33m\u001b[0m\u001b[0m\n\u001b[1;32m--> 297\u001b[1;33m                 \u001b[1;32mraise\u001b[0m \u001b[0mParamValidationError\u001b[0m\u001b[1;33m(\u001b[0m\u001b[0mreport\u001b[0m\u001b[1;33m=\u001b[0m\u001b[0mreport\u001b[0m\u001b[1;33m.\u001b[0m\u001b[0mgenerate_report\u001b[0m\u001b[1;33m(\u001b[0m\u001b[1;33m)\u001b[0m\u001b[1;33m)\u001b[0m\u001b[1;33m\u001b[0m\u001b[1;33m\u001b[0m\u001b[0m\n\u001b[0m\u001b[0;32m    298\u001b[0m         return self._serializer.serialize_to_request(parameters,\n\u001b[0;32m    299\u001b[0m                                                      operation_model)\n",
      "\u001b[1;31mParamValidationError\u001b[0m: Parameter validation failed:\nInvalid type for parameter Logins.cognito-idp.eu-west-2.amazonaws.com/eu-west-2_ewIawpZwb, value: None, type: <class 'NoneType'>, valid types: <class 'str'>"
     ]
    }
   ],
   "source": [
    "import garner"
   ]
  },
  {
   "cell_type": "code",
   "execution_count": 3,
   "metadata": {},
   "outputs": [
    {
     "name": "stdout",
     "output_type": "stream",
     "text": [
      "Enter Password\n"
     ]
    },
    {
     "name": "stdin",
     "output_type": "stream",
     "text": [
      "Password: ·········\n"
     ]
    },
    {
     "name": "stdout",
     "output_type": "stream",
     "text": [
      "Authenticated\n"
     ]
    }
   ],
   "source": [
    "garner.login(\"kipgparker@gmail.com\")"
   ]
  },
  {
   "cell_type": "code",
   "execution_count": 4,
   "metadata": {},
   "outputs": [
    {
     "data": {
      "text/plain": [
       "<module 'garner.api' from 'C:\\\\Users\\\\kipst\\\\OneDrive\\\\Desktop\\\\GarnerPython\\\\garner\\\\api\\\\__init__.py'>"
      ]
     },
     "execution_count": 4,
     "metadata": {},
     "output_type": "execute_result"
    }
   ],
   "source": [
    "garner.api"
   ]
  },
  {
   "cell_type": "code",
   "execution_count": 6,
   "metadata": {},
   "outputs": [],
   "source": [
    "file_uploader = CognitoUserFileUploader(\n",
    "    id_token = u.id_token\n",
    ")\n",
    "file_uploader.upload_file('movie.gif')"
   ]
  },
  {
   "cell_type": "code",
   "execution_count": 7,
   "metadata": {},
   "outputs": [
    {
     "name": "stdout",
     "output_type": "stream",
     "text": [
      "working on: \u001b[1mkai man\n"
     ]
    }
   ],
   "source": [
    "import requests\n",
    "import json\n",
    "\n",
    "APPSYNC_API_ENDPOINT_URL = config[\"aws_appsync_graphqlEndpoint\"]\n",
    "\n",
    "headers = {\n",
    "    'Authorization': str(u.access_token)\n",
    "}\n",
    "\n",
    "params = {\n",
    "    \"filter\": {\"privateKey\" : {\"eq\": u.private_key}}\n",
    "}\n",
    "\n",
    "def execute_gql(query):\n",
    "    u.check_token()\n",
    "    payload_obj = {\"query\": query, \"variables\" : params,}\n",
    "    payload = json.dumps(payload_obj)\n",
    "    response = requests.request(\"POST\", APPSYNC_API_ENDPOINT_URL, data=payload, headers=headers)\n",
    "    return response\n",
    "\n",
    "query = \"\"\"query ListPools(\n",
    "    $filter: ModelPoolFilterInput\n",
    "    $limit: Int\n",
    "    $nextToken: String\n",
    "  ) {\n",
    "    listPools(filter: $filter, limit: $limit, nextToken: $nextToken) {\n",
    "      items {\n",
    "        id\n",
    "        title\n",
    "        privateKey\n",
    "      }\n",
    "    }\n",
    "  }\"\"\"\n",
    "\n",
    "output = execute_gql(query).json()\n",
    "\n",
    "#print(output)\n",
    "print(\"working on: {}\".format('\\033[1m' +output['data']['listPools']['items'][0]['title']))\n",
    "#for item in output['data']['listPools']['items']:\n",
    "   # print(\"-{}\".format(item['title'][]))"
   ]
  },
  {
   "cell_type": "code",
   "execution_count": null,
   "metadata": {},
   "outputs": [],
   "source": []
  }
 ],
 "metadata": {
  "kernelspec": {
   "display_name": "Python 3",
   "language": "python",
   "name": "python3"
  },
  "language_info": {
   "codemirror_mode": {
    "name": "ipython",
    "version": 3
   },
   "file_extension": ".py",
   "mimetype": "text/x-python",
   "name": "python",
   "nbconvert_exporter": "python",
   "pygments_lexer": "ipython3",
   "version": "3.7.4"
  }
 },
 "nbformat": 4,
 "nbformat_minor": 4
}
