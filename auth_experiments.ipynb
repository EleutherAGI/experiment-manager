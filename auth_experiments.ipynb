{
 "cells": [
  {
   "cell_type": "code",
   "execution_count": 10,
   "metadata": {},
   "outputs": [],
   "source": [
    "import garner"
   ]
  },
  {
   "cell_type": "code",
   "execution_count": 2,
   "metadata": {},
   "outputs": [
    {
     "name": "stdout",
     "output_type": "stream",
     "text": [
      "Enter Password\n"
     ]
    },
    {
     "name": "stdin",
     "output_type": "stream",
     "text": [
      "Password: ·········\n"
     ]
    },
    {
     "name": "stdout",
     "output_type": "stream",
     "text": [
      "Authenticated\n"
     ]
    }
   ],
   "source": [
    "garner.login(\"kipgparker@gmail.com\")"
   ]
  },
  {
   "cell_type": "code",
   "execution_count": 4,
   "metadata": {},
   "outputs": [],
   "source": [
    "res = garner.select_pool(pool_name='This pool is a test')"
   ]
  },
  {
   "cell_type": "code",
   "execution_count": 3,
   "metadata": {},
   "outputs": [
    {
     "name": "stdout",
     "output_type": "stream",
     "text": [
      "connected\n",
      ">> {\"type\": \"connection_init\"}\n",
      "{\"id\":\"e80cb5db-788a-4a84-9604-513cb3e8152b\",\"type\":\"data\",\"payload\":{\"data\":{\"onSampleCompleted\":{\"poolID\":\"6ce54ac7-2761-4916-971c-c6286ffde71e\",\"id\":\"e4a715ad-14de-4ddc-92e5-9503ae92cec2\",\"x\":[\"x\"],\"y\":[\"y2\"]}}}}\n"
     ]
    }
   ],
   "source": [
    "ws = garner.webSocket\n",
    "\n",
    "ws.attach_auth(garner.auth)\n",
    "\n",
    "ws.connect(\"6ce54ac7-2761-4916-971c-c6286ffde71e\")"
   ]
  },
  {
   "cell_type": "code",
   "execution_count": 4,
   "metadata": {},
   "outputs": [],
   "source": [
    "ws.disconnect()"
   ]
  }
 ],
 "metadata": {
  "kernelspec": {
   "display_name": "Python 3",
   "language": "python",
   "name": "python3"
  },
  "language_info": {
   "codemirror_mode": {
    "name": "ipython",
    "version": 3
   },
   "file_extension": ".py",
   "mimetype": "text/x-python",
   "name": "python",
   "nbconvert_exporter": "python",
   "pygments_lexer": "ipython3",
   "version": "3.7.4"
  }
 },
 "nbformat": 4,
 "nbformat_minor": 4
}
