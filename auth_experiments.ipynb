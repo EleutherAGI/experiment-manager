{
 "cells": [
  {
   "cell_type": "code",
   "execution_count": 22,
   "metadata": {},
   "outputs": [],
   "source": [
    "import ast\n",
    "import datetime\n",
    "import re\n",
    "\n",
    "import boto3\n",
    "from envs import env\n",
    "from jose import JWTError, jwt\n",
    "import requests\n",
    "from getpass import getpass\n",
    "\n",
    "from aws_srp import AWSSRP\n",
    "from exceptions import TokenVerificationException\n",
    "\n",
    "from config import config\n",
    "\n",
    "import uuid"
   ]
  },
  {
   "cell_type": "code",
   "execution_count": 2,
   "metadata": {},
   "outputs": [],
   "source": [
    "class UserObj:\n",
    "    def __init__(\n",
    "        self, username, attribute_list, cognito_obj, metadata=None, attr_map=None\n",
    "    ):\n",
    "        \"\"\"\n",
    "        :param username:\n",
    "        :param attribute_list:\n",
    "        :param metadata: Dictionary of User metadata\n",
    "        \"\"\"\n",
    "        self.username = username\n",
    "        self._cognito = cognito_obj\n",
    "        self._attr_map = {} if attr_map is None else attr_map\n",
    "        self._data = cognito_to_dict(attribute_list, self._attr_map)\n",
    "        self.sub = self._data.pop(\"sub\", None)\n",
    "        self.email_verified = self._data.pop(\"email_verified\", None)\n",
    "        self.phone_number_verified = self._data.pop(\"phone_number_verified\", None)\n",
    "        self._metadata = {} if metadata is None else metadata\n",
    "\n",
    "    def __repr__(self):\n",
    "        return \"<{class_name}: {uni}>\".format(\n",
    "            class_name=self.__class__.__name__, uni=self.__unicode__()\n",
    "        )\n",
    "\n",
    "    def __unicode__(self):\n",
    "        return self.username\n",
    "\n",
    "    def __getattr__(self, name):\n",
    "        if name in list(self.__dict__.get(\"_data\", {}).keys()):\n",
    "            return self._data.get(name)\n",
    "        if name in list(self.__dict__.get(\"_metadata\", {}).keys()):\n",
    "            return self._metadata.get(name)\n",
    "        raise AttributeError(name)\n",
    "\n",
    "    def __setattr__(self, name, value):\n",
    "        if name in list(self.__dict__.get(\"_data\", {}).keys()):\n",
    "            self._data[name] = value\n",
    "        else:\n",
    "            super(UserObj, self).__setattr__(name, value)\n",
    "\n",
    "    def save(self, admin=False):\n",
    "        if admin:\n",
    "            self._cognito.admin_update_profile(self._data, self._attr_map)\n",
    "            return\n",
    "        self._cognito.update_profile(self._data, self._attr_map)\n",
    "\n",
    "    def delete(self, admin=False):\n",
    "        if admin:\n",
    "            self._cognito.admin_delete_user()\n",
    "            return\n",
    "        self._cognito.delete_user()"
   ]
  },
  {
   "cell_type": "code",
   "execution_count": 3,
   "metadata": {},
   "outputs": [],
   "source": [
    "class GroupObj:\n",
    "    def __init__(self, group_data, cognito_obj):\n",
    "        \"\"\"\n",
    "        :param group_data: a dictionary with information about a group\n",
    "        :param cognito_obj: an instance of the Cognito class\n",
    "        \"\"\"\n",
    "        self._data = group_data\n",
    "        self._cognito = cognito_obj\n",
    "        self.group_name = self._data.pop(\"GroupName\", None)\n",
    "        self.description = self._data.pop(\"Description\", None)\n",
    "        self.creation_date = self._data.pop(\"CreationDate\", None)\n",
    "        self.last_modified_date = self._data.pop(\"LastModifiedDate\", None)\n",
    "        self.role_arn = self._data.pop(\"RoleArn\", None)\n",
    "        self.precedence = self._data.pop(\"Precedence\", None)\n",
    "\n",
    "    def __unicode__(self):\n",
    "        return self.group_name\n",
    "\n",
    "    def __repr__(self):\n",
    "        return \"<{class_name}: {uni}>\".format(\n",
    "            class_name=self.__class__.__name__, uni=self.__unicode__()\n",
    "        )"
   ]
  },
  {
   "cell_type": "code",
   "execution_count": 2,
   "metadata": {},
   "outputs": [],
   "source": [
    "class Garner:\n",
    "    \n",
    "    #user_class = UserObj\n",
    "    #group_class = GroupObj\n",
    "    \n",
    "    def __init__(self, username=None, secret_key=None, password=None):\n",
    "        \n",
    "        self.user_pool_id = config[\"aws_user_pools_id\"]\n",
    "        self.user_pool_region = config[\"aws_cognito_region\"]\n",
    "        self.client_id = config[\"aws_user_pools_web_client_id\"]\n",
    "        \n",
    "        self.username = username\n",
    "        \n",
    "        self.refresh_token = None\n",
    "        self.token_type = None\n",
    "        self.access_token = None\n",
    "        self.pool_jwk = None\n",
    "        \n",
    "        self.client = boto3.client(\"cognito-idp\")\n",
    "        \n",
    "        self.authenticate(password)\n",
    "        \n",
    "    def authenticate(self, password):\n",
    "        \"\"\"\n",
    "        Authenticate the user using the SRP protocol\n",
    "        :param password: The user's passsword\n",
    "        :return:\n",
    "        \"\"\"\n",
    "        if not password:\n",
    "            print(\"Enter Password\")\n",
    "        aws = AWSSRP(\n",
    "            username=self.username,\n",
    "            password=(password if password else getpass(\"Password:\")),\n",
    "            pool_id=self.user_pool_id,\n",
    "            client_id=self.client_id,\n",
    "            client=self.client,\n",
    "        )\n",
    "        tokens = aws.authenticate_user('Password:')\n",
    "        print(\"Authenticated\")\n",
    "        self.verify_token(tokens[\"AuthenticationResult\"][\"IdToken\"], \"id_token\", \"id\")\n",
    "        self.refresh_token = tokens[\"AuthenticationResult\"][\"RefreshToken\"]\n",
    "        self.verify_token(\n",
    "            tokens[\"AuthenticationResult\"][\"AccessToken\"], \"access_token\", \"access\"\n",
    "        )\n",
    "        self.token_type = tokens[\"AuthenticationResult\"][\"TokenType\"]\n",
    "        self.access_token = tokens['AuthenticationResult']['AccessToken']\n",
    "        \n",
    "    def get_keys(self):\n",
    "        if self.pool_jwk:\n",
    "            return self.pool_jwk\n",
    "\n",
    "        # Check for the dictionary in environment variables.\n",
    "        pool_jwk_env = env(\"COGNITO_JWKS\", {}, var_type=\"dict\")\n",
    "        if pool_jwk_env:\n",
    "            self.pool_jwk = pool_jwk_env\n",
    "        # If it is not there use the requests library to get it\n",
    "        else:\n",
    "            self.pool_jwk = requests.get(\n",
    "                \"https://cognito-idp.{}.amazonaws.com/{}/.well-known/jwks.json\".format(\n",
    "                    self.user_pool_region, self.user_pool_id\n",
    "                )\n",
    "            ).json()\n",
    "        return self.pool_jwk\n",
    "\n",
    "    def get_key(self, kid):\n",
    "        keys = self.get_keys().get(\"keys\")\n",
    "        key = list(filter(lambda x: x.get(\"kid\") == kid, keys))\n",
    "        return key[0]\n",
    "    \n",
    "    def verify_token(self, token, id_name, token_use):\n",
    "        kid = jwt.get_unverified_header(token).get(\"kid\")\n",
    "        unverified_claims = jwt.get_unverified_claims(token)\n",
    "        token_use_verified = unverified_claims.get(\"token_use\") == token_use\n",
    "        if not token_use_verified:\n",
    "            raise TokenVerificationException(\"Your {} token use could not be verified.\")\n",
    "        hmac_key = self.get_key(kid)\n",
    "        try:\n",
    "            verified = jwt.decode(\n",
    "                token,\n",
    "                hmac_key,\n",
    "                algorithms=[\"RS256\"],\n",
    "                audience=unverified_claims.get(\"aud\"),\n",
    "                issuer=unverified_claims.get(\"iss\"),\n",
    "            )\n",
    "        except JWTError:\n",
    "            raise TokenVerificationException(\"Your {} token could not be verified.\")\n",
    "        setattr(self, id_name, token)\n",
    "        return verified"
   ]
  },
  {
   "cell_type": "code",
   "execution_count": 3,
   "metadata": {},
   "outputs": [
    {
     "name": "stdout",
     "output_type": "stream",
     "text": [
      "Enter Password\n"
     ]
    },
    {
     "name": "stdin",
     "output_type": "stream",
     "text": [
      "Password: ·········\n"
     ]
    },
    {
     "name": "stdout",
     "output_type": "stream",
     "text": [
      "Authenticated\n"
     ]
    }
   ],
   "source": [
    "u = Garner('e80cb5db-788a-4a84-9604-513cb3e8152b', 'secret key')"
   ]
  },
  {
   "cell_type": "code",
   "execution_count": 7,
   "metadata": {},
   "outputs": [],
   "source": [
    "u.base_attributes"
   ]
  },
  {
   "cell_type": "code",
   "execution_count": 7,
   "metadata": {},
   "outputs": [
    {
     "name": "stdout",
     "output_type": "stream",
     "text": [
      "You manage:\n",
      "-This pool is a test\n",
      "-kai man\n"
     ]
    }
   ],
   "source": [
    "import requests\n",
    "import json\n",
    "\n",
    "APPSYNC_API_ENDPOINT_URL = config[\"aws_appsync_graphqlEndpoint\"]\n",
    "#APPSYNC_API_KEY = \"da2-fakeApiId123456\"\n",
    "\n",
    "headers = {\n",
    "    #'Content-Type': \"application/graphql\",\n",
    "    #'x-api-key': APPSYNC_API_KEY,\n",
    "    #'Authorization': u.pool_jwk\n",
    "    'Authorization': str(u.access_token)\n",
    "}\n",
    "\n",
    "params = {\n",
    "    \"filter\": {\"owner\" : {\"eq\": u.username}}\n",
    "}\n",
    "\n",
    "def execute_gql(query):\n",
    "    payload_obj = {\"query\": query, \"variables\" : params,}\n",
    "    payload = json.dumps(payload_obj)\n",
    "    response = requests.request(\"POST\", APPSYNC_API_ENDPOINT_URL, data=payload, headers=headers)\n",
    "    return response\n",
    "\n",
    "query = \"\"\"query ListPools(\n",
    "    $filter: ModelPoolFilterInput\n",
    "    $limit: Int\n",
    "    $nextToken: String\n",
    "  ) {\n",
    "    listPools(filter: $filter, limit: $limit, nextToken: $nextToken) {\n",
    "      items {\n",
    "        id\n",
    "        title\n",
    "        privateKey\n",
    "      }\n",
    "    }\n",
    "  }\"\"\"\n",
    "\n",
    "output = execute_gql(query).json()['data']['listPools']['items']\n",
    "\n",
    "\n",
    "print(\"You manage:\")\n",
    "for item in output:\n",
    "    print(\"-{}\".format(item['title']))"
   ]
  },
  {
   "cell_type": "code",
   "execution_count": 34,
   "metadata": {},
   "outputs": [],
   "source": [
    "with open('Screenshot 2020-10-13 003430.png', 'rb') as data:\n",
    "    loc = 'pooldata211140-dev'\n",
    "    \n",
    "    key = 'protected/'\n",
    "    key += u.username\n",
    "    key += '/'\n",
    "    key += str(uuid.uuid4())\n",
    "    key += '.'\n",
    "    key += OBJECT_NAME.split('.')[-1]\n",
    "    \n",
    "    s3.upload_fileobj(data, loc, key)"
   ]
  },
  {
   "cell_type": "code",
   "execution_count": 19,
   "metadata": {},
   "outputs": [
    {
     "data": {
      "text/plain": [
       "'png'"
      ]
     },
     "execution_count": 19,
     "metadata": {},
     "output_type": "execute_result"
    }
   ],
   "source": [
    "OBJECT_NAME.split('.')[-1]"
   ]
  }
 ],
 "metadata": {
  "kernelspec": {
   "display_name": "Python 3",
   "language": "python",
   "name": "python3"
  },
  "language_info": {
   "codemirror_mode": {
    "name": "ipython",
    "version": 3
   },
   "file_extension": ".py",
   "mimetype": "text/x-python",
   "name": "python",
   "nbconvert_exporter": "python",
   "pygments_lexer": "ipython3",
   "version": "3.7.4"
  }
 },
 "nbformat": 4,
 "nbformat_minor": 4
}
