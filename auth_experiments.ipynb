{
 "cells": [
  {
   "cell_type": "code",
   "execution_count": 1,
   "metadata": {},
   "outputs": [],
   "source": [
    "import garner"
   ]
  },
  {
   "cell_type": "code",
   "execution_count": 2,
   "metadata": {},
   "outputs": [
    {
     "name": "stdout",
     "output_type": "stream",
     "text": [
      "Enter Password\n"
     ]
    },
    {
     "name": "stdin",
     "output_type": "stream",
     "text": [
      "Password: ·········\n"
     ]
    },
    {
     "name": "stdout",
     "output_type": "stream",
     "text": [
      "Authenticated\n"
     ]
    }
   ],
   "source": [
    "garner.login(\"kipgparker@gmail.com\")"
   ]
  },
  {
   "cell_type": "code",
   "execution_count": 10,
   "metadata": {},
   "outputs": [],
   "source": [
    "print(\"working on: {}\".format('\\033[1m' +output['data']['listPools']['items'][0]['title']))"
   ]
  },
  {
   "cell_type": "code",
   "execution_count": 5,
   "metadata": {},
   "outputs": [],
   "source": [
    "garner.storage.upload_file('movie.gif')"
   ]
  },
  {
   "cell_type": "code",
   "execution_count": 14,
   "metadata": {},
   "outputs": [
    {
     "name": "stdout",
     "output_type": "stream",
     "text": [
      "0\n"
     ]
    }
   ],
   "source": [
    "b = 0\n",
    "def bruh(b):\n",
    "    b += 1\n",
    "    return True\n",
    "\n",
    "if(bruh(b)):\n",
    "    print(b)"
   ]
  },
  {
   "cell_type": "code",
   "execution_count": 19,
   "metadata": {},
   "outputs": [],
   "source": [
    "B = {item[\"Name\"] : item[\"Value\"] for item in garner.auth.get_user()['UserAttributes']}"
   ]
  },
  {
   "cell_type": "code",
   "execution_count": 5,
   "metadata": {},
   "outputs": [
    {
     "data": {
      "text/plain": [
       "'e80cb5db-788a-4a84-9604-513cb3e8152b'"
      ]
     },
     "execution_count": 5,
     "metadata": {},
     "output_type": "execute_result"
    }
   ],
   "source": [
    "garner.auth.username"
   ]
  },
  {
   "cell_type": "code",
   "execution_count": 4,
   "metadata": {},
   "outputs": [],
   "source": [
    "res = garner.select_pool(pool_key='d9a49411-b7c2-42bd-bb43-16f4bdaccb40')"
   ]
  },
  {
   "cell_type": "code",
   "execution_count": 26,
   "metadata": {},
   "outputs": [
    {
     "data": {
      "text/plain": [
       "{'id': '6ce54ac7-2761-4916-971c-c6286ffde71e',\n",
       " 'title': 'This pool is a test',\n",
       " 'privateKey': 'd9a49411-b7c2-42bd-bb43-16f4bdaccb40'}"
      ]
     },
     "execution_count": 26,
     "metadata": {},
     "output_type": "execute_result"
    }
   ],
   "source": [
    "def select_pool(pool_name=None, pool_key=None):\n",
    "\n",
    "    if not garner.auth:\n",
    "        raise UserWarning(\n",
    "            \"No auth object attached.\")\n",
    "\n",
    "    query = \"\"\"query ListPools(\n",
    "        $filter: ModelPoolFilterInput\n",
    "        $limit: Int\n",
    "        $nextToken: String\n",
    "    ) {\n",
    "        listPools(filter: $filter, limit: $limit, nextToken: $nextToken) {\n",
    "        items {\n",
    "            id\n",
    "            title\n",
    "            privateKey\n",
    "        }\n",
    "        }\n",
    "    }\"\"\"\n",
    "\n",
    "    if pool_key:\n",
    "        params = {\n",
    "            \"filter\": {\"privateKey\": {\"eq\": pool_key}, \"owner\": {\"eq\": garner.auth.username}}\n",
    "        }\n",
    "    elif pool_name:\n",
    "        params = {\n",
    "            \"filter\": {\"title\": {\"eq\": pool_name}, \"owner\": {\"eq\": garner.auth.username}}\n",
    "        }\n",
    "    response = garner.api.execute_gql(query, params)\n",
    "\n",
    "    try:\n",
    "        data = response['data']['listPools']['items'] \n",
    "    except:\n",
    "        raise UserWarning(\n",
    "            response['errors'][0]['message'])\n",
    "        \n",
    "    if len(data) == 0:\n",
    "        raise UserWarning('No pools found')\n",
    "    if len(data) > 1:\n",
    "        raise UserWarning(\n",
    "        'multiple pools found, please use pool key instead')\n",
    "    return data[0]\n",
    "\n",
    "\n",
    "\n",
    "response = select_pool(pool_name='This pool is a test')\n",
    "#response['data']['errors'][0]['message']\n",
    "response"
   ]
  },
  {
   "cell_type": "code",
   "execution_count": 6,
   "metadata": {},
   "outputs": [],
   "source": [
    "if len(response['data']['listPools']['items']) == 0:\n",
    "    raise UserWarning('No pools found')\n",
    "if len(response['data']['listPools']['items']) > 1:\n",
    "    raise UserWarning('multiple pools found, please use pool key instead')\n",
    "\n",
    "#output['data']['listPools']['items'][0]['title']"
   ]
  },
  {
   "cell_type": "code",
   "execution_count": 13,
   "metadata": {},
   "outputs": [],
   "source": [
    "response = []"
   ]
  },
  {
   "cell_type": "code",
   "execution_count": null,
   "metadata": {},
   "outputs": [],
   "source": []
  }
 ],
 "metadata": {
  "kernelspec": {
   "display_name": "Python 3",
   "language": "python",
   "name": "python3"
  },
  "language_info": {
   "codemirror_mode": {
    "name": "ipython",
    "version": 3
   },
   "file_extension": ".py",
   "mimetype": "text/x-python",
   "name": "python",
   "nbconvert_exporter": "python",
   "pygments_lexer": "ipython3",
   "version": "3.7.4"
  }
 },
 "nbformat": 4,
 "nbformat_minor": 4
}
