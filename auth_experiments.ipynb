{
 "cells": [
  {
   "cell_type": "code",
   "execution_count": 4,
   "metadata": {},
   "outputs": [
    {
     "name": "stdout",
     "output_type": "stream",
     "text": [
      "Enter Password\n"
     ]
    },
    {
     "name": "stdin",
     "output_type": "stream",
     "text": [
      "Password: ·········\n"
     ]
    },
    {
     "name": "stdout",
     "output_type": "stream",
     "text": [
      "Authenticated\n"
     ]
    }
   ],
   "source": [
    "u = garner.Auth('kipsterbroz@gmail.com', 'dbfaab17-b8b1-41ad-95ec-1568ac734109')"
   ]
  },
  {
   "cell_type": "code",
   "execution_count": 1,
   "metadata": {},
   "outputs": [],
   "source": [
    "import garner"
   ]
  },
  {
   "cell_type": "code",
   "execution_count": 2,
   "metadata": {},
   "outputs": [
    {
     "data": {
      "text/plain": [
       "garner.authentication.authentication.Auth"
      ]
     },
     "execution_count": 2,
     "metadata": {},
     "output_type": "execute_result"
    }
   ],
   "source": [
    "garner.Auth"
   ]
  },
  {
   "cell_type": "code",
   "execution_count": 6,
   "metadata": {},
   "outputs": [],
   "source": [
    "file_uploader = CognitoUserFileUploader(\n",
    "    id_token = u.id_token\n",
    ")\n",
    "file_uploader.upload_file('movie.gif')"
   ]
  },
  {
   "cell_type": "code",
   "execution_count": 7,
   "metadata": {},
   "outputs": [
    {
     "name": "stdout",
     "output_type": "stream",
     "text": [
      "working on: \u001b[1mkai man\n"
     ]
    }
   ],
   "source": [
    "import requests\n",
    "import json\n",
    "\n",
    "APPSYNC_API_ENDPOINT_URL = config[\"aws_appsync_graphqlEndpoint\"]\n",
    "\n",
    "headers = {\n",
    "    'Authorization': str(u.access_token)\n",
    "}\n",
    "\n",
    "params = {\n",
    "    \"filter\": {\"privateKey\" : {\"eq\": u.private_key}}\n",
    "}\n",
    "\n",
    "def execute_gql(query):\n",
    "    u.check_token()\n",
    "    payload_obj = {\"query\": query, \"variables\" : params,}\n",
    "    payload = json.dumps(payload_obj)\n",
    "    response = requests.request(\"POST\", APPSYNC_API_ENDPOINT_URL, data=payload, headers=headers)\n",
    "    return response\n",
    "\n",
    "query = \"\"\"query ListPools(\n",
    "    $filter: ModelPoolFilterInput\n",
    "    $limit: Int\n",
    "    $nextToken: String\n",
    "  ) {\n",
    "    listPools(filter: $filter, limit: $limit, nextToken: $nextToken) {\n",
    "      items {\n",
    "        id\n",
    "        title\n",
    "        privateKey\n",
    "      }\n",
    "    }\n",
    "  }\"\"\"\n",
    "\n",
    "output = execute_gql(query).json()\n",
    "\n",
    "#print(output)\n",
    "print(\"working on: {}\".format('\\033[1m' +output['data']['listPools']['items'][0]['title']))\n",
    "#for item in output['data']['listPools']['items']:\n",
    "   # print(\"-{}\".format(item['title'][]))"
   ]
  },
  {
   "cell_type": "code",
   "execution_count": null,
   "metadata": {},
   "outputs": [],
   "source": []
  }
 ],
 "metadata": {
  "kernelspec": {
   "display_name": "Python 3",
   "language": "python",
   "name": "python3"
  },
  "language_info": {
   "codemirror_mode": {
    "name": "ipython",
    "version": 3
   },
   "file_extension": ".py",
   "mimetype": "text/x-python",
   "name": "python",
   "nbconvert_exporter": "python",
   "pygments_lexer": "ipython3",
   "version": "3.7.4"
  }
 },
 "nbformat": 4,
 "nbformat_minor": 4
}
