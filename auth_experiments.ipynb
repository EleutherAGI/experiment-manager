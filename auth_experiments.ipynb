{
 "cells": [
  {
   "cell_type": "code",
   "execution_count": 1,
   "metadata": {},
   "outputs": [],
   "source": [
    "import garner as g"
   ]
  },
  {
   "cell_type": "code",
   "execution_count": 2,
   "metadata": {},
   "outputs": [
    {
     "name": "stdout",
     "output_type": "stream",
     "text": [
      "Enter Password\n"
     ]
    },
    {
     "name": "stdin",
     "output_type": "stream",
     "text": [
      "Password: ·········\n"
     ]
    },
    {
     "name": "stdout",
     "output_type": "stream",
     "text": [
      "Authenticated\n"
     ]
    }
   ],
   "source": [
    "g.login(\"kipgparker@gmail.com\")"
   ]
  },
  {
   "cell_type": "code",
   "execution_count": 3,
   "metadata": {},
   "outputs": [],
   "source": [
    "g.select_pool(pool_name='This pool is a test')"
   ]
  },
  {
   "cell_type": "code",
   "execution_count": 4,
   "metadata": {},
   "outputs": [
    {
     "name": "stdout",
     "output_type": "stream",
     "text": [
      "There are more samples available, try increasing the limit\n"
     ]
    },
    {
     "data": {
      "text/plain": [
       "[{'id': '506e52a2-652e-4bd7-a2ae-1f95308ead33', 'x': ['x'], 'y': ['y']},\n",
       " {'id': '7be87522-d847-49fd-af19-4d901fac68d2', 'x': ['x'], 'y': ['y']},\n",
       " {'id': 'eb51e6cb-e86d-459a-8c9f-750fe7f15d85', 'x': ['2x'], 'y': ['2y']},\n",
       " {'id': '4f9a4676-6b9d-4238-adf4-cbeb97a58e18', 'x': ['x'], 'y': ['y']},\n",
       " {'id': '31b2cb40-4dc3-46d1-a718-454921f0d4a8', 'x': ['x'], 'y': ['y']},\n",
       " {'id': 'f866c951-901b-452a-ab3a-3c6dc191be83', 'x': ['x'], 'y': ['y']},\n",
       " {'id': 'c5486b69-8f42-431b-96e0-42630eda7d3f', 'x': ['x'], 'y': ['y']},\n",
       " {'id': '3653e8e0-1979-4bc9-9b15-fd1208bf3774', 'x': ['x'], 'y': ['y']}]"
      ]
     },
     "execution_count": 4,
     "metadata": {},
     "output_type": "execute_result"
    }
   ],
   "source": [
    "g.get_backlog(limit = 10)"
   ]
  },
  {
   "cell_type": "code",
   "execution_count": 5,
   "metadata": {},
   "outputs": [
    {
     "name": "stdout",
     "output_type": "stream",
     "text": [
      "connected\n"
     ]
    }
   ],
   "source": [
    "g.connect()"
   ]
  },
  {
   "cell_type": "code",
   "execution_count": 6,
   "metadata": {},
   "outputs": [
    {
     "data": {
      "text/plain": [
       "[{'id': '05e413e9-40f4-46de-8b1e-20537b33a5e1', 'x': ['x'], 'y': ['y']}]"
      ]
     },
     "execution_count": 6,
     "metadata": {},
     "output_type": "execute_result"
    }
   ],
   "source": [
    "g.query()"
   ]
  },
  {
   "cell_type": "code",
   "execution_count": 7,
   "metadata": {},
   "outputs": [
    {
     "name": "stdout",
     "output_type": "stream",
     "text": [
      "disconnected\n"
     ]
    }
   ],
   "source": [
    "g.disconnect()"
   ]
  }
 ],
 "metadata": {
  "kernelspec": {
   "display_name": "Python 3",
   "language": "python",
   "name": "python3"
  },
  "language_info": {
   "codemirror_mode": {
    "name": "ipython",
    "version": 3
   },
   "file_extension": ".py",
   "mimetype": "text/x-python",
   "name": "python",
   "nbconvert_exporter": "python",
   "pygments_lexer": "ipython3",
   "version": "3.7.4"
  }
 },
 "nbformat": 4,
 "nbformat_minor": 4
}
