{
 "cells": [
  {
   "cell_type": "code",
   "execution_count": 2,
   "metadata": {},
   "outputs": [],
   "source": [
    "import ast\n",
    "import datetime\n",
    "import re\n",
    "\n",
    "import boto3\n",
    "from envs import env\n",
    "from jose import JWTError, jwt\n",
    "import requests\n",
    "from getpass import getpass\n",
    "\n",
    "from aws_srp import AWSSRP\n",
    "from exceptions import TokenVerificationException\n",
    "\n",
    "from config import config\n",
    "\n",
    "import uuid"
   ]
  },
  {
   "cell_type": "code",
   "execution_count": 14,
   "metadata": {},
   "outputs": [],
   "source": [
    "class Garner:\n",
    "    \n",
    "    #user_class = UserObj\n",
    "    #group_class = GroupObj\n",
    "    \n",
    "    def __init__(self, username=None, private_key=None, password=None):\n",
    "        \n",
    "        self.user_pool_id = config[\"aws_user_pools_id\"]\n",
    "        self.user_pool_region = config[\"aws_cognito_region\"]\n",
    "        self.client_id = config[\"aws_user_pools_web_client_id\"]\n",
    "        \n",
    "        self.username = username\n",
    "        self.private_key = private_key\n",
    "        \n",
    "        self.refresh_token = None\n",
    "        self.token_type = None\n",
    "        self.access_token = None\n",
    "        self.pool_jwk = None\n",
    "        self.id_token = None\n",
    "        \n",
    "        self.client = boto3.client(\"cognito-idp\", region_name=self.user_pool_region)\n",
    "        \n",
    "        self.authenticate(password)\n",
    "        \n",
    "    def authenticate(self, password):\n",
    "        \"\"\"\n",
    "        Authenticate the user using the SRP protocol\n",
    "        :param password: The user's passsword\n",
    "        :return:\n",
    "        \"\"\"\n",
    "        if not password:\n",
    "            print(\"Enter Password\")\n",
    "        aws = AWSSRP(\n",
    "            username=self.username,\n",
    "            password=(password if password else getpass(\"Password:\")),\n",
    "            pool_id=self.user_pool_id,\n",
    "            client_id=self.client_id,\n",
    "            client=self.client,\n",
    "        )\n",
    "        tokens = aws.authenticate_user('Password:')\n",
    "        print(\"Authenticated\")\n",
    "        self.verify_token(tokens[\"AuthenticationResult\"][\"IdToken\"], \"id_token\", \"id\")\n",
    "        self.refresh_token = tokens[\"AuthenticationResult\"][\"RefreshToken\"]\n",
    "        self.verify_token(\n",
    "            tokens[\"AuthenticationResult\"][\"AccessToken\"], \"access_token\", \"access\"\n",
    "        )\n",
    "        self.token_type = tokens[\"AuthenticationResult\"][\"TokenType\"]\n",
    "        self.access_token = tokens['AuthenticationResult']['AccessToken']\n",
    "        \n",
    "    def get_keys(self):\n",
    "        if self.pool_jwk:\n",
    "            return self.pool_jwk\n",
    "\n",
    "        # Check for the dictionary in environment variables.\n",
    "        pool_jwk_env = env(\"COGNITO_JWKS\", {}, var_type=\"dict\")\n",
    "        if pool_jwk_env:\n",
    "            self.pool_jwk = pool_jwk_env\n",
    "        # If it is not there use the requests library to get it\n",
    "        else:\n",
    "            self.pool_jwk = requests.get(\n",
    "                \"https://cognito-idp.{}.amazonaws.com/{}/.well-known/jwks.json\".format(\n",
    "                    self.user_pool_region, self.user_pool_id\n",
    "                )\n",
    "            ).json()\n",
    "        return self.pool_jwk\n",
    "\n",
    "    def get_key(self, kid):\n",
    "        keys = self.get_keys().get(\"keys\")\n",
    "        key = list(filter(lambda x: x.get(\"kid\") == kid, keys))\n",
    "        return key[0]\n",
    "    \n",
    "    def verify_token(self, token, id_name, token_use):\n",
    "        kid = jwt.get_unverified_header(token).get(\"kid\")\n",
    "        unverified_claims = jwt.get_unverified_claims(token)\n",
    "        token_use_verified = unverified_claims.get(\"token_use\") == token_use\n",
    "        if not token_use_verified:\n",
    "            raise TokenVerificationException(\"Your {} token use could not be verified.\")\n",
    "        hmac_key = self.get_key(kid)\n",
    "        try:\n",
    "            verified = jwt.decode(\n",
    "                token,\n",
    "                hmac_key,\n",
    "                algorithms=[\"RS256\"],\n",
    "                audience=unverified_claims.get(\"aud\"),\n",
    "                issuer=unverified_claims.get(\"iss\"),\n",
    "            )\n",
    "        except JWTError:\n",
    "            raise TokenVerificationException(\"Your {} token could not be verified.\")\n",
    "        setattr(self, id_name, token)\n",
    "        return verified\n",
    "    \n",
    "    def check_token(self, renew=True):\n",
    "        \"\"\"\n",
    "        Checks the exp attribute of the access_token and either refreshes\n",
    "        the tokens by calling the renew_access_tokens method or does nothing\n",
    "        :param renew: bool indicating whether to refresh on expiration\n",
    "        :return: bool indicating whether access_token has expired\n",
    "        \"\"\"\n",
    "        if not self.access_token:\n",
    "            raise AttributeError('Access Token Required to Check Token')\n",
    "        now = datetime.datetime.now()\n",
    "        dec_access_token = jwt.get_unverified_claims(self.access_token)\n",
    "\n",
    "        if now > datetime.datetime.fromtimestamp(dec_access_token['exp']):\n",
    "            expired = True\n",
    "            if renew:\n",
    "                self.renew_access_token()\n",
    "        else:\n",
    "            expired = False\n",
    "        return expired\n",
    "    \n",
    "    def renew_access_token(self):\n",
    "        \"\"\"\n",
    "        Sets a new access token on the User using the refresh token.\n",
    "        \"\"\"\n",
    "        auth_params = {'REFRESH_TOKEN': self.refresh_token}\n",
    "        #self._add_secret_hash(auth_params, 'SECRET_HASH')\n",
    "        refresh_response = self.client.initiate_auth(\n",
    "            ClientId=self.client_id,\n",
    "            AuthFlow='REFRESH_TOKEN',\n",
    "            AuthParameters=auth_params,\n",
    "        )\n",
    "\n",
    "        status_code = refresh_response.get(\n",
    "            'HTTPStatusCode',\n",
    "            refresh_response['ResponseMetadata']['HTTPStatusCode']\n",
    "        )\n",
    "        \n",
    "        if status_code == 200:\n",
    "            self.access_token = refresh_response['AuthenticationResult']['AccessToken']\n",
    "            self.id_token: refresh_response['AuthenticationResult']['IdToken']\n",
    "            self.token_type: refresh_response['AuthenticationResult']['TokenType']"
   ]
  },
  {
   "cell_type": "code",
   "execution_count": 20,
   "metadata": {},
   "outputs": [
    {
     "name": "stdout",
     "output_type": "stream",
     "text": [
      "Enter Password\n"
     ]
    },
    {
     "name": "stdin",
     "output_type": "stream",
     "text": [
      "Password: ·········\n"
     ]
    },
    {
     "name": "stdout",
     "output_type": "stream",
     "text": [
      "Authenticated\n"
     ]
    }
   ],
   "source": [
    "u = Garner('e80cb5db-788a-4a84-9604-513cb3e8152b', 'dbfaab17-b8b1-41ad-95ec-1568ac734109')"
   ]
  },
  {
   "cell_type": "code",
   "execution_count": 21,
   "metadata": {},
   "outputs": [
    {
     "data": {
      "text/plain": [
       "'dbfaab17-b8b1-41ad-95ec-1568ac734109'"
      ]
     },
     "execution_count": 21,
     "metadata": {},
     "output_type": "execute_result"
    }
   ],
   "source": [
    "u.check_token()\n",
    "u.private_key"
   ]
  },
  {
   "cell_type": "code",
   "execution_count": 27,
   "metadata": {},
   "outputs": [
    {
     "name": "stdout",
     "output_type": "stream",
     "text": [
      "working on: \u001b[1mkai man\n"
     ]
    }
   ],
   "source": [
    "import requests\n",
    "import json\n",
    "\n",
    "APPSYNC_API_ENDPOINT_URL = config[\"aws_appsync_graphqlEndpoint\"]\n",
    "#APPSYNC_API_KEY = \"da2-fakeApiId123456\"\n",
    "\n",
    "headers = {\n",
    "    #'Content-Type': \"application/graphql\",\n",
    "    #'x-api-key': APPSYNC_API_KEY,\n",
    "    #'Authorization': u.pool_jwk\n",
    "    'Authorization': str(u.access_token)\n",
    "}\n",
    "\n",
    "params = {\n",
    "    \"filter\": {\"privateKey\" : {\"eq\": u.private_key}}\n",
    "}\n",
    "\n",
    "def execute_gql(query):\n",
    "    u.check_token()\n",
    "    payload_obj = {\"query\": query, \"variables\" : params,}\n",
    "    payload = json.dumps(payload_obj)\n",
    "    response = requests.request(\"POST\", APPSYNC_API_ENDPOINT_URL, data=payload, headers=headers)\n",
    "    return response\n",
    "\n",
    "query = \"\"\"query ListPools(\n",
    "    $filter: ModelPoolFilterInput\n",
    "    $limit: Int\n",
    "    $nextToken: String\n",
    "  ) {\n",
    "    listPools(filter: $filter, limit: $limit, nextToken: $nextToken) {\n",
    "      items {\n",
    "        id\n",
    "        title\n",
    "        privateKey\n",
    "      }\n",
    "    }\n",
    "  }\"\"\"\n",
    "\n",
    "output = execute_gql(query).json()\n",
    "\n",
    "#print(output)\n",
    "print(\"working on: {}\".format('\\033[1m' +output['data']['listPools']['items'][0]['title']))\n",
    "#for item in output['data']['listPools']['items']:\n",
    "   # print(\"-{}\".format(item['title'][]))"
   ]
  },
  {
   "cell_type": "code",
   "execution_count": 1,
   "metadata": {},
   "outputs": [
    {
     "ename": "NameError",
     "evalue": "name 'boto3' is not defined",
     "output_type": "error",
     "traceback": [
      "\u001b[0;31m---------------------------------------------------------------------------\u001b[0m",
      "\u001b[0;31mNameError\u001b[0m                                 Traceback (most recent call last)",
      "\u001b[0;32m<ipython-input-1-8d050e5648c9>\u001b[0m in \u001b[0;36m<module>\u001b[0;34m\u001b[0m\n\u001b[1;32m      1\u001b[0m \u001b[0mobject_name\u001b[0m \u001b[0;34m=\u001b[0m \u001b[0;34m'movie.gif'\u001b[0m\u001b[0;34m\u001b[0m\u001b[0;34m\u001b[0m\u001b[0m\n\u001b[0;32m----> 2\u001b[0;31m \u001b[0ms3\u001b[0m \u001b[0;34m=\u001b[0m \u001b[0mboto3\u001b[0m\u001b[0;34m.\u001b[0m\u001b[0mclient\u001b[0m\u001b[0;34m(\u001b[0m\u001b[0;34m's3'\u001b[0m\u001b[0;34m)\u001b[0m\u001b[0;34m\u001b[0m\u001b[0;34m\u001b[0m\u001b[0m\n\u001b[0m\u001b[1;32m      3\u001b[0m \u001b[0;34m\u001b[0m\u001b[0m\n\u001b[1;32m      4\u001b[0m \u001b[0;32mwith\u001b[0m \u001b[0mopen\u001b[0m\u001b[0;34m(\u001b[0m\u001b[0mobject_name\u001b[0m\u001b[0;34m,\u001b[0m \u001b[0;34m'rb'\u001b[0m\u001b[0;34m)\u001b[0m \u001b[0;32mas\u001b[0m \u001b[0mdata\u001b[0m\u001b[0;34m:\u001b[0m\u001b[0;34m\u001b[0m\u001b[0;34m\u001b[0m\u001b[0m\n\u001b[1;32m      5\u001b[0m     \u001b[0mloc\u001b[0m \u001b[0;34m=\u001b[0m \u001b[0;34m'pooldata211140-dev'\u001b[0m\u001b[0;34m\u001b[0m\u001b[0;34m\u001b[0m\u001b[0m\n",
      "\u001b[0;31mNameError\u001b[0m: name 'boto3' is not defined"
     ]
    }
   ],
   "source": [
    "object_name = 'movie.gif'\n",
    "s3 = boto3.client('s3')\n",
    "\n",
    "with open(object_name, 'rb') as data:\n",
    "    loc = 'pooldata211140-dev'\n",
    "    \n",
    "    key = 'protected/'\n",
    "    key += u.username\n",
    "    key += '/'\n",
    "    key += str(uuid.uuid4())\n",
    "    key += '.'\n",
    "    key += object_name.split('.')[-1]\n",
    "    \n",
    "    s3.upload_fileobj(data, loc, key)"
   ]
  },
  {
   "cell_type": "code",
   "execution_count": 12,
   "metadata": {},
   "outputs": [
    {
     "data": {
      "text/plain": [
       "1784"
      ]
     },
     "execution_count": 12,
     "metadata": {},
     "output_type": "execute_result"
    }
   ],
   "source": [
    "len(u.refresh_token)"
   ]
  },
  {
   "cell_type": "code",
   "execution_count": null,
   "metadata": {},
   "outputs": [],
   "source": []
  }
 ],
 "metadata": {
  "kernelspec": {
   "display_name": "Python 3",
   "language": "python",
   "name": "python3"
  },
  "language_info": {
   "codemirror_mode": {
    "name": "ipython",
    "version": 3
   },
   "file_extension": ".py",
   "mimetype": "text/x-python",
   "name": "python",
   "nbconvert_exporter": "python",
   "pygments_lexer": "ipython3",
   "version": "3.7.6"
  }
 },
 "nbformat": 4,
 "nbformat_minor": 4
}
